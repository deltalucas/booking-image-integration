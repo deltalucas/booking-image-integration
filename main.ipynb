{
 "cells": [
  {
   "cell_type": "code",
   "execution_count": null,
   "metadata": {
    "colab": {
     "base_uri": "https://localhost:8080/"
    },
    "executionInfo": {
     "elapsed": 17503,
     "status": "ok",
     "timestamp": 1739469513542,
     "user": {
      "displayName": "Austin Carnahan",
      "userId": "07587377473313309239"
     },
     "user_tz": 360
    },
    "id": "IUtw6pDpA9qy",
    "outputId": "fa8b52b7-2d2b-4c54-8f7a-8238bb097196"
   },
   "outputs": [],
   "source": [
    "# GOOGLE COLAB COMPATIBILITY\n",
    "# Not Needed outside of COLAB!\n",
    "from google.colab import drive\n",
    "import os\n",
    "import sys\n",
    "\n",
    "# 👀 Define project directory relative to \"My Drive\"\n",
    "PROJECT_DIR = \"My Drive/<PATH_TO_YOUR_PROJECT_DIR>\"\n",
    "\n",
    "# Mount Google Drive (Must always be `/content/drive`)\n",
    "drive.mount('/content/drive')\n",
    "PROJECT_PATH = os.path.join(\"/content/drive\", PROJECT_DIR)  # Absolute path\n",
    "# Change to the project directory\n",
    "os.chdir(PROJECT_PATH)\n",
    "# Ensure project scripts are importable\n",
    "if PROJECT_PATH not in sys.path:\n",
    "    sys.path.append(PROJECT_PATH)\n",
    "print(f\"✅ Project directory set to: {PROJECT_PATH}\")\n",
    "# Autorelaod modules in scripts/ dir\n",
    "from scripts import autoreload"
   ]
  },
  {
   "cell_type": "code",
   "execution_count": 1,
   "metadata": {
    "colab": {
     "base_uri": "https://localhost:8080/"
    },
    "executionInfo": {
     "elapsed": 112,
     "status": "ok",
     "timestamp": 1739469566571,
     "user": {
      "displayName": "Austin Carnahan",
      "userId": "07587377473313309239"
     },
     "user_tz": 360
    },
    "id": "KJ1x3FD5A9q1",
    "outputId": "ecc4ab93-9a89-4324-e04a-8f1cbb801579"
   },
   "outputs": [],
   "source": [
    "# Import a module from the scripts directory\n",
    "from scripts.hello_world import print_hello"
   ]
  },
  {
   "cell_type": "code",
   "execution_count": null,
   "metadata": {},
   "outputs": [],
   "source": [
    "print_hello()"
   ]
  }
 ],
 "metadata": {
  "colab": {
   "provenance": []
  },
  "kernelspec": {
   "display_name": "Python 3",
   "language": "python",
   "name": "python3"
  },
  "language_info": {
   "codemirror_mode": {
    "name": "ipython",
    "version": 3
   },
   "file_extension": ".py",
   "mimetype": "text/x-python",
   "name": "python",
   "nbconvert_exporter": "python",
   "pygments_lexer": "ipython3",
   "version": "3.9.18"
  }
 },
 "nbformat": 4,
 "nbformat_minor": 4
}
